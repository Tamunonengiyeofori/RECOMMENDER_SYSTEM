{
 "cells": [
  {
   "cell_type": "code",
   "execution_count": 20,
   "metadata": {},
   "outputs": [],
   "source": [
    "# import all the necceary libraries\n",
    "import pandas as pd\n",
    "import numpy as np\n",
    "import matplotlib.pyplot as plt\n",
    "import seaborn as sns\n"
   ]
  },
  {
   "cell_type": "code",
   "execution_count": 8,
   "metadata": {},
   "outputs": [
    {
     "data": {
      "text/html": [
       "<div>\n",
       "<style scoped>\n",
       "    .dataframe tbody tr th:only-of-type {\n",
       "        vertical-align: middle;\n",
       "    }\n",
       "\n",
       "    .dataframe tbody tr th {\n",
       "        vertical-align: top;\n",
       "    }\n",
       "\n",
       "    .dataframe thead th {\n",
       "        text-align: right;\n",
       "    }\n",
       "</style>\n",
       "<table border=\"1\" class=\"dataframe\">\n",
       "  <thead>\n",
       "    <tr style=\"text-align: right;\">\n",
       "      <th></th>\n",
       "      <th>count</th>\n",
       "      <th>mean</th>\n",
       "      <th>std</th>\n",
       "      <th>min</th>\n",
       "      <th>25%</th>\n",
       "      <th>50%</th>\n",
       "      <th>75%</th>\n",
       "      <th>max</th>\n",
       "    </tr>\n",
       "  </thead>\n",
       "  <tbody>\n",
       "    <tr>\n",
       "      <th>item_id</th>\n",
       "      <td>1292954.0</td>\n",
       "      <td>4183.588261</td>\n",
       "      <td>2525.345511</td>\n",
       "      <td>0.0</td>\n",
       "      <td>2018.00</td>\n",
       "      <td>3930.0</td>\n",
       "      <td>6289.00</td>\n",
       "      <td>9559.0</td>\n",
       "    </tr>\n",
       "    <tr>\n",
       "      <th>user_id</th>\n",
       "      <td>1292954.0</td>\n",
       "      <td>560512.696322</td>\n",
       "      <td>334237.399854</td>\n",
       "      <td>0.0</td>\n",
       "      <td>269748.25</td>\n",
       "      <td>551892.0</td>\n",
       "      <td>847485.75</td>\n",
       "      <td>1157632.0</td>\n",
       "    </tr>\n",
       "    <tr>\n",
       "      <th>rating</th>\n",
       "      <td>1292954.0</td>\n",
       "      <td>4.051482</td>\n",
       "      <td>1.379732</td>\n",
       "      <td>1.0</td>\n",
       "      <td>4.00</td>\n",
       "      <td>5.0</td>\n",
       "      <td>5.00</td>\n",
       "      <td>5.0</td>\n",
       "    </tr>\n",
       "    <tr>\n",
       "      <th>year</th>\n",
       "      <td>1292954.0</td>\n",
       "      <td>2012.938317</td>\n",
       "      <td>2.643513</td>\n",
       "      <td>1999.0</td>\n",
       "      <td>2012.00</td>\n",
       "      <td>2014.0</td>\n",
       "      <td>2015.00</td>\n",
       "      <td>2018.0</td>\n",
       "    </tr>\n",
       "  </tbody>\n",
       "</table>\n",
       "</div>"
      ],
      "text/plain": [
       "             count           mean            std     min        25%       50%  \\\n",
       "item_id  1292954.0    4183.588261    2525.345511     0.0    2018.00    3930.0   \n",
       "user_id  1292954.0  560512.696322  334237.399854     0.0  269748.25  551892.0   \n",
       "rating   1292954.0       4.051482       1.379732     1.0       4.00       5.0   \n",
       "year     1292954.0    2012.938317       2.643513  1999.0    2012.00    2014.0   \n",
       "\n",
       "               75%        max  \n",
       "item_id    6289.00     9559.0  \n",
       "user_id  847485.75  1157632.0  \n",
       "rating        5.00        5.0  \n",
       "year       2015.00     2018.0  "
      ]
     },
     "execution_count": 8,
     "metadata": {},
     "output_type": "execute_result"
    }
   ],
   "source": [
    "# Load the Electronics dataset\n",
    "elect_data = pd.read_csv(\"electronics_2.csv\", usecols=['item_id', 'user_id','rating', 'model_attr','category', 'year'])\n",
    "# elect_data.head()\n",
    "# elect_data.info()\n",
    "# elect_data.shape\n",
    "\n",
    "elect_data.describe().T\n"
   ]
  },
  {
   "cell_type": "code",
   "execution_count": 9,
   "metadata": {},
   "outputs": [
    {
     "data": {
      "text/plain": [
       "False"
      ]
     },
     "execution_count": 9,
     "metadata": {},
     "output_type": "execute_result"
    }
   ],
   "source": [
    "# Check for missing/null values\n",
    "elect_data.isnull().values.any()\n"
   ]
  },
  {
   "cell_type": "code",
   "execution_count": 10,
   "metadata": {},
   "outputs": [
    {
     "data": {
      "text/plain": [
       "item_id       0\n",
       "user_id       0\n",
       "rating        0\n",
       "model_attr    0\n",
       "category      0\n",
       "year          0\n",
       "dtype: int64"
      ]
     },
     "execution_count": 10,
     "metadata": {},
     "output_type": "execute_result"
    }
   ],
   "source": [
    "# check for the sum of missing values\n",
    "elect_data.isnull().sum()"
   ]
  },
  {
   "cell_type": "code",
   "execution_count": 11,
   "metadata": {},
   "outputs": [
    {
     "data": {
      "text/plain": [
       "Female         481171\n",
       "Male           429715\n",
       "Female&Male    382068\n",
       "Name: model_attr, dtype: int64"
      ]
     },
     "execution_count": 11,
     "metadata": {},
     "output_type": "execute_result"
    }
   ],
   "source": [
    "# check for the distibution of categorical variables in the dataset (model_attr)\n",
    "elect_data[\"model_attr\"].value_counts()"
   ]
  },
  {
   "cell_type": "code",
   "execution_count": 12,
   "metadata": {},
   "outputs": [
    {
     "data": {
      "text/plain": [
       "Headphones                 359334\n",
       "Computers & Accessories    322938\n",
       "Camera & Photo             192573\n",
       "Accessories & Supplies     158598\n",
       "Portable Audio & Video     143370\n",
       "Car Electronics & GPS       33070\n",
       "Television & Video          32057\n",
       "Home Audio                  24193\n",
       "Wearable Technology         16015\n",
       "Security & Surveillance     10806\n",
       "Name: category, dtype: int64"
      ]
     },
     "execution_count": 12,
     "metadata": {},
     "output_type": "execute_result"
    }
   ],
   "source": [
    "# check for the distribution of the categorical variables (category)\n",
    "elect_data[\"category\"].value_counts()"
   ]
  },
  {
   "cell_type": "code",
   "execution_count": 13,
   "metadata": {},
   "outputs": [
    {
     "data": {
      "text/plain": [
       "5.0    755755\n",
       "4.0    214166\n",
       "1.0    143755\n",
       "3.0    100630\n",
       "2.0     78648\n",
       "Name: rating, dtype: int64"
      ]
     },
     "execution_count": 13,
     "metadata": {},
     "output_type": "execute_result"
    }
   ],
   "source": [
    "# check for the distribution of the numerical variables (ratings)\n",
    "elect_data[\"rating\"].value_counts()"
   ]
  },
  {
   "cell_type": "code",
   "execution_count": 14,
   "metadata": {},
   "outputs": [
    {
     "data": {
      "text/plain": [
       "2015    364004\n",
       "2014    275194\n",
       "2013    161695\n",
       "2012    139154\n",
       "2011     87695\n",
       "2016     54598\n",
       "2009     54333\n",
       "2010     50315\n",
       "2008     28520\n",
       "2007     17989\n",
       "2006     16336\n",
       "2005     11577\n",
       "2017     10429\n",
       "2004      7195\n",
       "2018      4624\n",
       "2003      3949\n",
       "2000      3572\n",
       "2002       955\n",
       "2001       702\n",
       "1999       118\n",
       "Name: year, dtype: int64"
      ]
     },
     "execution_count": 14,
     "metadata": {},
     "output_type": "execute_result"
    }
   ],
   "source": [
    "# check for the distribution of the numerical variables (year)\n",
    "elect_data[\"year\"].value_counts()"
   ]
  },
  {
   "cell_type": "code",
   "execution_count": null,
   "metadata": {},
   "outputs": [],
   "source": [
    "# plot the distribution of the categorical variables in a bar chart\n",
    "elect_data[\"model_attr\"].value_counts().plot(kind='bar')"
   ]
  },
  {
   "cell_type": "code",
   "execution_count": null,
   "metadata": {},
   "outputs": [],
   "source": [
    "# plot the distribution of the categorical variables in a bar chart\n",
    "elect_data[\"category\"].value_counts().plot(kind='bar')"
   ]
  },
  {
   "cell_type": "code",
   "execution_count": null,
   "metadata": {},
   "outputs": [],
   "source": [
    "# plot the values of the numerical variables in a bar chart (ratings against year)\n",
    "plt.figure(figsize=(10,5))\n",
    "plt.xticks(rotation=90)\n",
    "sns.barplot(x=elect_data[\"year\"], y=elect_data[\"rating\"])\n",
    "plt.show()"
   ]
  },
  {
   "cell_type": "code",
   "execution_count": 23,
   "metadata": {},
   "outputs": [
    {
     "data": {
      "image/png": "[encoded data removed]",
      "text/plain": [
       "<Figure size 1000x500 with 1 Axes>"
      ]
     },
     "metadata": {},
     "output_type": "display_data"
    }
   ],
   "source": [
    "# plot the distribtution of model_attr, against the ratings in a bar chart\n",
    "plt.figure(figsize=(10,5))\n",
    "sns.barplot(x=elect_data[\"model_attr\"], y=elect_data[\"rating\"], hue=elect_data[\"category\"])\n",
    "plt.show()"
   ]
  },
  {
   "cell_type": "code",
   "execution_count": null,
   "metadata": {},
   "outputs": [],
   "source": [
    "# create a kernel density plot to show the probability density of the ratings\n",
    "plt.figure(figsize = (15,8))\n",
    "sns.kdeplot(x=elect_data[\"rating\"],hue=elect_data[\"category\"],fill=True);\n",
    "plt.show()"
   ]
  },
  {
   "cell_type": "code",
   "execution_count": 27,
   "metadata": {},
   "outputs": [
    {
     "data": {
      "text/html": [
       "<div>\n",
       "<style scoped>\n",
       "    .dataframe tbody tr th:only-of-type {\n",
       "        vertical-align: middle;\n",
       "    }\n",
       "\n",
       "    .dataframe tbody tr th {\n",
       "        vertical-align: top;\n",
       "    }\n",
       "\n",
       "    .dataframe thead th {\n",
       "        text-align: right;\n",
       "    }\n",
       "</style>\n",
       "<table border=\"1\" class=\"dataframe\">\n",
       "  <thead>\n",
       "    <tr style=\"text-align: right;\">\n",
       "      <th></th>\n",
       "      <th>item_id</th>\n",
       "      <th>user_id</th>\n",
       "      <th>rating</th>\n",
       "      <th>category</th>\n",
       "    </tr>\n",
       "  </thead>\n",
       "  <tbody>\n",
       "    <tr>\n",
       "      <th>0</th>\n",
       "      <td>0</td>\n",
       "      <td>0</td>\n",
       "      <td>5.0</td>\n",
       "      <td>Portable Audio &amp; Video</td>\n",
       "    </tr>\n",
       "    <tr>\n",
       "      <th>1</th>\n",
       "      <td>0</td>\n",
       "      <td>1</td>\n",
       "      <td>5.0</td>\n",
       "      <td>Portable Audio &amp; Video</td>\n",
       "    </tr>\n",
       "    <tr>\n",
       "      <th>2</th>\n",
       "      <td>0</td>\n",
       "      <td>2</td>\n",
       "      <td>3.0</td>\n",
       "      <td>Portable Audio &amp; Video</td>\n",
       "    </tr>\n",
       "    <tr>\n",
       "      <th>3</th>\n",
       "      <td>0</td>\n",
       "      <td>3</td>\n",
       "      <td>1.0</td>\n",
       "      <td>Portable Audio &amp; Video</td>\n",
       "    </tr>\n",
       "    <tr>\n",
       "      <th>4</th>\n",
       "      <td>0</td>\n",
       "      <td>4</td>\n",
       "      <td>2.0</td>\n",
       "      <td>Portable Audio &amp; Video</td>\n",
       "    </tr>\n",
       "  </tbody>\n",
       "</table>\n",
       "</div>"
      ],
      "text/plain": [
       "   item_id  user_id  rating                category\n",
       "0        0        0     5.0  Portable Audio & Video\n",
       "1        0        1     5.0  Portable Audio & Video\n",
       "2        0        2     3.0  Portable Audio & Video\n",
       "3        0        3     1.0  Portable Audio & Video\n",
       "4        0        4     2.0  Portable Audio & Video"
      ]
     },
     "execution_count": 27,
     "metadata": {},
     "output_type": "execute_result"
    }
   ],
   "source": [
    "# create a recommendation function using the the columns: item_id, user_id, rating, category\n",
    "rec_df = elect_data.loc[: , [\"item_id\", \"user_id\", \"rating\", \"category\"]]\n",
    "rec_df.head()"
   ]
  }
 ],
 "metadata": {
  "kernelspec": {
   "display_name": "venv",
   "language": "python",
   "name": "python3"
  },
  "language_info": {
   "codemirror_mode": {
    "name": "ipython",
    "version": 3
   },
   "file_extension": ".py",
   "mimetype": "text/x-python",
   "name": "python",
   "nbconvert_exporter": "python",
   "pygments_lexer": "ipython3",
   "version": "3.10.1"
  },
  "orig_nbformat": 4
 },
 "nbformat": 4,
 "nbformat_minor": 2
}
